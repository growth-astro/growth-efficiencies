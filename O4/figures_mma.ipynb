{
 "cells": [
  {
   "cell_type": "markdown",
   "id": "db6a3053-4ad6-47ee-8c79-4656b15a4801",
   "metadata": {},
   "source": [
    "# Figures\n",
    "\n",
    "This notebooks collects code to produce figures that will be used in papers during LIGO-Virgo-KAGRA O4."
   ]
  },
  {
   "cell_type": "markdown",
   "id": "dfdf3e2c-f503-47a2-9a1e-0022aaa2af23",
   "metadata": {},
   "source": [
    "## Localization\n",
    "Localization figure showing sky map, observed tiles, zoom in with discovery image and reference image"
   ]
  },
  {
   "cell_type": "code",
   "execution_count": null,
   "id": "10bed041-3466-44b3-b862-613975a00aa1",
   "metadata": {},
   "outputs": [],
   "source": [
    "... "
   ]
  },
  {
   "cell_type": "markdown",
   "id": "b7ac6e0f-8f1c-4a21-baaf-3902f2bd5d6a",
   "metadata": {},
   "source": [
    "## Light curve\n",
    "Light curve figure - multiple telescopes, multiple bands. Compare to 170817."
   ]
  },
  {
   "cell_type": "code",
   "execution_count": null,
   "id": "fb224ce7-170c-47f6-9507-a93c73a91bde",
   "metadata": {},
   "outputs": [],
   "source": [
    "..."
   ]
  },
  {
   "cell_type": "markdown",
   "id": "9375d085-771f-4868-abe2-181651b900f7",
   "metadata": {},
   "source": [
    "## Spectral collage\n",
    "Spectral collage figure - optical and IR  - marking lines, redshift, comparing to 170817, comparing to models "
   ]
  },
  {
   "cell_type": "code",
   "execution_count": null,
   "id": "52837a5f-ede8-413e-94eb-1a04dad6416b",
   "metadata": {},
   "outputs": [],
   "source": [
    "..."
   ]
  },
  {
   "cell_type": "markdown",
   "id": "2434b473-1c26-4ca7-af96-a36cb1ae7ea6",
   "metadata": {},
   "source": [
    "## Models\n",
    "Model figure - overplotting best fit Bulla and Kasen and LANL models "
   ]
  },
  {
   "cell_type": "code",
   "execution_count": null,
   "id": "867fac3b-47b5-4d94-a906-7376a44e3e9c",
   "metadata": {},
   "outputs": [],
   "source": [
    "..."
   ]
  },
  {
   "cell_type": "markdown",
   "id": "6a1da7a6-211e-4ffc-be4a-05d4cdf25fb1",
   "metadata": {},
   "source": [
    "## Host galaxy \n",
    "Host Galaxy SED and fit to that "
   ]
  },
  {
   "cell_type": "code",
   "execution_count": null,
   "id": "1fef725c-85d6-4a7d-964a-068b39b220d0",
   "metadata": {
    "tags": []
   },
   "outputs": [],
   "source": [
    "..."
   ]
  },
  {
   "cell_type": "markdown",
   "id": "27200b51-7b3c-466e-a597-424ea873b7f1",
   "metadata": {
    "tags": []
   },
   "source": [
    "## SED\n",
    "Combining X-ray and radio into a broadband SED of kilonova figure "
   ]
  },
  {
   "cell_type": "code",
   "execution_count": null,
   "id": "807d1c81-aeed-4d6a-bf90-4bd2025df77b",
   "metadata": {},
   "outputs": [],
   "source": [
    "..."
   ]
  },
  {
   "cell_type": "markdown",
   "id": "9e477d0c-75c5-4db9-affb-aa9887fe6e92",
   "metadata": {},
   "source": [
    "## GRBs\n",
    "Compare new UVOIR photometry to all kilonova claims in the literature for short and long GRBs "
   ]
  },
  {
   "cell_type": "code",
   "execution_count": null,
   "id": "2a65e648-e49a-4526-8f2f-dd849103473f",
   "metadata": {},
   "outputs": [],
   "source": [
    "..."
   ]
  }
 ],
 "metadata": {
  "kernelspec": {
   "display_name": "Python 3 (ipykernel)",
   "language": "python",
   "name": "python3"
  },
  "language_info": {
   "codemirror_mode": {
    "name": "ipython",
    "version": 3
   },
   "file_extension": ".py",
   "mimetype": "text/x-python",
   "name": "python",
   "nbconvert_exporter": "python",
   "pygments_lexer": "ipython3",
   "version": "3.9.12"
  }
 },
 "nbformat": 4,
 "nbformat_minor": 5
}
